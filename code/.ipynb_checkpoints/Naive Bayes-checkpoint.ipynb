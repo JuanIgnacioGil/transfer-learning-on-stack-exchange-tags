{
 "cells": [
  {
   "cell_type": "code",
   "execution_count": 1,
   "metadata": {
    "collapsed": true
   },
   "outputs": [],
   "source": [
    "from sklearn.naive_bayes import BernoulliNB\n",
    "#from sklearn.model_selection import KFold\n",
    "import deepdish as dd\n",
    "import scipy.sparse as sp\n",
    "import time\n"
   ]
  },
  {
   "cell_type": "code",
   "execution_count": 2,
   "metadata": {
    "collapsed": true
   },
   "outputs": [],
   "source": [
    "\n",
    "# Read data\n",
    "X = dd.io.load('../data/data.h5','/predictors')\n",
    "Y = dd.io.load('../data/data.h5','/outputs')\n",
    "\n",
    "n_tags=Y.shape[1]\n"
   ]
  },
  {
   "cell_type": "code",
   "execution_count": 3,
   "metadata": {
    "collapsed": false
   },
   "outputs": [
    {
     "name": "stdout",
     "output_type": "stream",
     "text": [
      "2% calculated. 7 minutes remaining\n",
      "4% calculated. 7 minutes remaining\n",
      "7% calculated. 7 minutes remaining\n",
      "9% calculated. 7 minutes remaining\n",
      "11% calculated. 7 minutes remaining\n",
      "14% calculated. 6 minutes remaining\n",
      "16% calculated. 6 minutes remaining\n",
      "18% calculated. 6 minutes remaining\n",
      "21% calculated. 6 minutes remaining\n",
      "23% calculated. 6 minutes remaining\n",
      "25% calculated. 5 minutes remaining\n",
      "28% calculated. 5 minutes remaining\n",
      "30% calculated. 5 minutes remaining\n",
      "32% calculated. 5 minutes remaining\n",
      "35% calculated. 5 minutes remaining\n",
      "37% calculated. 4 minutes remaining\n",
      "39% calculated. 4 minutes remaining\n",
      "42% calculated. 4 minutes remaining\n",
      "44% calculated. 4 minutes remaining\n",
      "46% calculated. 4 minutes remaining\n",
      "49% calculated. 4 minutes remaining\n",
      "51% calculated. 3 minutes remaining\n",
      "53% calculated. 3 minutes remaining\n",
      "56% calculated. 3 minutes remaining\n",
      "58% calculated. 3 minutes remaining\n",
      "60% calculated. 3 minutes remaining\n",
      "63% calculated. 2 minutes remaining\n",
      "65% calculated. 2 minutes remaining\n",
      "67% calculated. 2 minutes remaining\n",
      "70% calculated. 2 minutes remaining\n",
      "72% calculated. 2 minutes remaining\n",
      "74% calculated. 1 minutes remaining\n",
      "77% calculated. 1 minutes remaining\n",
      "79% calculated. 1 minutes remaining\n",
      "82% calculated. 1 minutes remaining\n",
      "84% calculated. 1 minutes remaining\n",
      "86% calculated. 1 minutes remaining\n",
      "89% calculated. 0 minutes remaining\n",
      "91% calculated. 0 minutes remaining\n",
      "93% calculated. 0 minutes remaining\n",
      "96% calculated. 0 minutes remaining\n",
      "98% calculated. 0 minutes remaining\n"
     ]
    }
   ],
   "source": [
    "\n",
    "# Cross validation\n",
    "#k_fold = KFold(n_splits=3)\n",
    "\n",
    "#Fit the Naive Bayes Method\n",
    "clf = [BernoulliNB() for tag in range(n_tags)]\n",
    "t0 = time.time()\n",
    "\n",
    "for tag in range(n_tags):\n",
    "    clf[tag].fit(X, Y[:,tag].toarray().ravel())\n",
    "    BernoulliNB(alpha=1.0, binarize=None, class_prior=None, fit_prior=True)\n",
    "\n",
    "    # If the index is evenly divisible by 200, print a message\n",
    "    if (tag + 1) % 200 == 0:\n",
    "        p = int((100 * (tag + 1) / n_tags))\n",
    "        elapsed = time.time() - t0\n",
    "        remaining = int(elapsed * (n_tags - tag - 1) / (60 * (tag + 1)))\n",
    "        print('{}% calculated. {} minutes remaining'.format(p, remaining))\n",
    "\n"
   ]
  },
  {
   "cell_type": "code",
   "execution_count": null,
   "metadata": {
    "collapsed": false
   },
   "outputs": [],
   "source": [
    "# Predict\n",
    "for k in range(100):\n",
    "    Yp = [0] * n_tags\n",
    "    Yk = Y[k,:].toarray()\n",
    "\n",
    "    for tag in range(n_tags):\n",
    "        Yp[tag]=clf[tag].predict(X[k,:])\n",
    "\n",
    "\n",
    "    #Evaluate\n",
    "    true_positives = sum([a*b for a,b in zip(Yp,Yk)])\n",
    "    predicted_positives = sum(Yp)\n",
    "    actual_positives = sum(Yk)\n",
    "    precision = true_positives / predicted_positives\n",
    "    recall = true_positives / actual_positives\n",
    "    F1 = 2 * precision * recall / (precision + recall)\n",
    "\n",
    "    print('F1[{}]: {}'.format(k,F1))"
   ]
  },
  {
   "cell_type": "code",
   "execution_count": null,
   "metadata": {
    "collapsed": true
   },
   "outputs": [],
   "source": []
  }
 ],
 "metadata": {
  "kernelspec": {
   "display_name": "Python 3",
   "language": "python",
   "name": "python3"
  },
  "language_info": {
   "codemirror_mode": {
    "name": "ipython",
    "version": 3
   },
   "file_extension": ".py",
   "mimetype": "text/x-python",
   "name": "python",
   "nbconvert_exporter": "python",
   "pygments_lexer": "ipython3",
   "version": "3.5.1"
  }
 },
 "nbformat": 4,
 "nbformat_minor": 0
}
